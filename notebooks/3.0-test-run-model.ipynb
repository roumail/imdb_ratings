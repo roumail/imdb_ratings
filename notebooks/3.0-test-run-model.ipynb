{
 "cells": [
  {
   "cell_type": "markdown",
   "metadata": {},
   "source": [
    "__Objective__: Load the model trained using the script run_pipeline.py and do quality assessment"
   ]
  },
  {
   "cell_type": "markdown",
   "metadata": {},
   "source": [
    "__TODO__: add figure and models to git, removing from gitignore"
   ]
  },
  {
   "cell_type": "code",
   "execution_count": 1,
   "metadata": {},
   "outputs": [],
   "source": [
    "%load_ext blackcellmagic"
   ]
  },
  {
   "cell_type": "code",
   "execution_count": 2,
   "metadata": {},
   "outputs": [
    {
     "name": "stderr",
     "output_type": "stream",
     "text": [
      "/home/rohail/.conda/envs/imdb/lib/python3.7/site-packages/sklearn/utils/deprecation.py:144: FutureWarning: The sklearn.metrics.classification module is  deprecated in version 0.22 and will be removed in version 0.24. The corresponding classes / functions should instead be imported from sklearn.metrics. Anything that cannot be imported from sklearn.metrics is now part of the private API.\n",
      "  warnings.warn(message, FutureWarning)\n"
     ]
    }
   ],
   "source": [
    "import os, pdb\n",
    "import pandas as pd\n",
    "import seaborn as sns\n",
    "from train_model import train_model, compare_methods"
   ]
  },
  {
   "cell_type": "markdown",
   "metadata": {},
   "source": [
    "# Parameters"
   ]
  },
  {
   "cell_type": "code",
   "execution_count": 3,
   "metadata": {},
   "outputs": [],
   "source": [
    "TARGET_CUTOFF = 7.5\n",
    "PROJECT_BASE_DIR = \"/home/rohail/projects/imdb_ratings/\"\n",
    "model_save_dir = \"models/\"\n",
    "plot_write_dir = \"reports/figures/\"\n",
    "idx_columns = [\"imdb_title_id\", \"title\", \"original_title\"]\n",
    "target_columns = [\"avg_vote\", \"avg_vote_flag\"]\n",
    "# determined via classification threshold\n",
    "classification_threshold = 0.8"
   ]
  },
  {
   "cell_type": "code",
   "execution_count": 4,
   "metadata": {
    "scrolled": false
   },
   "outputs": [],
   "source": [
    "df_model = pd.read_csv(os.path.join(PROJECT_BASE_DIR, model_save_dir, \"df_model.csv\"))\n",
    "y_test = pd.read_csv(os.path.join(PROJECT_BASE_DIR, model_save_dir, \"y_test.csv\"))\n",
    "x_test = pd.read_csv(os.path.join(PROJECT_BASE_DIR, model_save_dir, \"x_test.csv\"))"
   ]
  },
  {
   "cell_type": "code",
   "execution_count": 5,
   "metadata": {},
   "outputs": [
    {
     "name": "stdout",
     "output_type": "stream",
     "text": [
      "Diagnostic plots for this model can be found in the following directory: \n",
      "/home/rohail/projects/imdb_ratings/reports/figures/\n",
      "The model itself is saved in the following directory: /home/rohail/projects/imdb_ratings/models/\n",
      "\n",
      "Loading model from /home/rohail/projects/imdb_ratings/models/regression_2020_03_04_13_56.joblib\n",
      "Diagnostic plots for this model can be found in the following directory: \n",
      "/home/rohail/projects/imdb_ratings/reports/figures/\n",
      "The model itself is saved in the following directory: /home/rohail/projects/imdb_ratings/models/\n",
      "\n",
      "Loading model from /home/rohail/projects/imdb_ratings/models/classification_2020_03_04_14_58.joblib\n"
     ]
    }
   ],
   "source": [
    "# regression\n",
    "parameters = {\n",
    "    \"plot_write_dir\": os.path.join(PROJECT_BASE_DIR, plot_write_dir),\n",
    "    \"model_save_dir\": os.path.join(PROJECT_BASE_DIR, model_save_dir),\n",
    "    \"model_type\": \"regression\",  # , classification\n",
    "    \"idx_columns\": idx_columns,\n",
    "    \"test_set_size\": 0.1,\n",
    "    \"training_parameters\": {\n",
    "        \"class_weight\": \"balanced\",  # vs providing sample weight to fit --> does it make a difference?\n",
    "        \"n_jobs\": -1,\n",
    "        \"max_iter\" : 10000,\n",
    "        \"scoring\": \"balanced_accuracy\",\n",
    "    },\n",
    "}\n",
    "\n",
    "reg_model, df_reg_coefs, _, _ = train_model(\n",
    "    df_model,\n",
    "    parameters=parameters,\n",
    "    load_from_disk=\"regression_2020_03_04_13_56.joblib\"\n",
    ")\n",
    "\n",
    "# classification\n",
    "parameters.update({\"model_type\": \"classification\"})\n",
    "clf_model, df_clf_coefs, _, _ = train_model(\n",
    "    df_model,\n",
    "    parameters=parameters,\n",
    "    load_from_disk=\"classification_2020_03_04_14_58.joblib\",\n",
    ")"
   ]
  },
  {
   "cell_type": "markdown",
   "metadata": {},
   "source": [
    "# Validate model"
   ]
  },
  {
   "cell_type": "code",
   "execution_count": 6,
   "metadata": {},
   "outputs": [
    {
     "name": "stdout",
     "output_type": "stream",
     "text": [
      "Making predictions on test data\n",
      "       reg_rating_prediction  clf_prob_prediction\n",
      "count            6651.000000          6651.000000\n",
      "mean                6.624809             0.860669\n",
      "std                 1.195558             0.100118\n",
      "min                -5.361077             0.024658\n",
      "25%                 5.855755             0.805919\n",
      "50%                 6.573938             0.884124\n",
      "75%                 7.336742             0.935293\n",
      "max                15.439234             0.999633\n",
      "Regression and classification predictions the same? False\n",
      "Balanced accuracy for regression:  0.5254132927882691\n",
      "Balanced accuracy for classification:  0.4765079744088544\n",
      "Making predictions on sample data from train data\n",
      "       reg_rating_prediction  clf_prob_prediction\n",
      "count              32.000000            32.000000\n",
      "mean                8.495867             0.829495\n",
      "std                 2.785052             0.076770\n",
      "min                 3.792930             0.715504\n",
      "25%                 6.647194             0.759382\n",
      "50%                 7.946068             0.820254\n",
      "75%                 9.448804             0.871368\n",
      "max                17.895294             0.970790\n",
      "Regression and classification predictions the same? False\n",
      "Balanced accuracy for regression:  0.4830917874396135\n",
      "Balanced accuracy for classification:  0.6135265700483092\n"
     ]
    }
   ],
   "source": [
    "parameters = {\n",
    "    \"target_columns\": target_columns,\n",
    "    \"classification_threshold\":classification_threshold, # determined from looking at diagnostic plot....\n",
    "    \"regression_threshold\": TARGET_CUTOFF,\n",
    "    \"idx_columns\": idx_columns,\n",
    "}\n",
    "\n",
    "train_movies_sample = {\n",
    "    \"The Dark Knight\",\n",
    "    \"Anchorman: The Legend of Ron Burgundy\",\n",
    "    \"The Big Lebowski\",\n",
    "    \"Batman v Superman: Dawn of Justice\",\n",
    "    \"Black Panther\",\n",
    "    \"Kabhi Khushi Kabhie Gham...\",\n",
    "    \"3 Idiots\",\n",
    "    \"The Intouchables\",\n",
    "    \"Amélie\",\n",
    "    \"The Matrix\",\n",
    "    \"The Matrix Reloaded\",\n",
    "    \"V for Vendetta\",\n",
    "    \"Kill Bill: Vol. 1\",\n",
    "    \"La vita è bella\",\n",
    "    \"Die Hard\",\n",
    "    \"Requiem for a Dream\",\n",
    "    \"Terminator 3: Rise of the Machines\",\n",
    "    \"The Terminator\",\n",
    "    \"Terminator 2: Judgment Day\",\n",
    "    \"Titanic\",\n",
    "    \"The Departed\",\n",
    "    \"Groundhog Day\",\n",
    "    \"Love in Kilnerry\",\n",
    "    \"Jinnah\",\n",
    "    \"Jawani Phir Nahi Ani\",\n",
    "    \"Bol\",\n",
    "    \"Das letzte Mahl\",\n",
    "    \"The Lives of Others\",\n",
    "    \"Das Experiment\",\n",
    "}\n",
    "\n",
    "# predict on unseen examples depending on model type...\n",
    "df_predict_test, df_predict_train  = compare_methods(\n",
    "    df_model, reg_model, clf_model, x_test, y_test, train_movies_sample, parameters\n",
    ")"
   ]
  }
 ],
 "metadata": {
  "kernelspec": {
   "display_name": "Python [conda env:.conda-imdb] *",
   "language": "python",
   "name": "conda-env-.conda-imdb-py"
  },
  "language_info": {
   "codemirror_mode": {
    "name": "ipython",
    "version": 3
   },
   "file_extension": ".py",
   "mimetype": "text/x-python",
   "name": "python",
   "nbconvert_exporter": "python",
   "pygments_lexer": "ipython3",
   "version": "3.7.6"
  },
  "toc": {
   "base_numbering": 1,
   "nav_menu": {},
   "number_sections": true,
   "sideBar": true,
   "skip_h1_title": false,
   "title_cell": "Table of Contents",
   "title_sidebar": "Contents",
   "toc_cell": false,
   "toc_position": {},
   "toc_section_display": true,
   "toc_window_display": true
  }
 },
 "nbformat": 4,
 "nbformat_minor": 4
}
