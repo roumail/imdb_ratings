{
 "cells": [
  {
   "cell_type": "markdown",
   "metadata": {},
   "source": [
    "__TODO:__    \n",
    "Movies:   \n",
    "    * Normalize budget column to the same amount, but this needs to account for past currencies (pre euro...)\n",
    "    * interact vote, budget, \n",
    "    * For foreign movies, check if it has been released in US (global vs local) or worldwide...\n",
    "    * user/critics reviews -- where are they missing?   \n",
    "\n",
    "\n",
    "Country/language first occurrence \n",
    "When do we have and not have the extra reviews??\n",
    "\n",
    "Ideas for features:\n",
    "* Cast and combination of casts is important -> get average rating for actors in cast, same for producers such as tarrantino --> this should probably be by country    \n",
    "* Language, Country, Genre are vague features in our case. Too broad --> need feature cleaning on them...   \n",
    "* Capture genre bias on ratings-  comedy is typically rated less - action is typically more    \n",
    "* Nominations for awards are important (for example parasite), country inflation is a factor --> indian movies tend to have a higher rating and the average vote count is higher too   \n",
    "* Focus on movies file first and then consider the actors part -->    \n",
    "    * ratings has target groups information which I don't need to include in a first version-- has missing values and stuff   \n",
    "    * actors comes in a second version   \n",
    "\n",
    "Different types of movies: \n",
    "* English Comedy: will ferrel, big lebowski? \n",
    "* Low budget/indie movies:   \n",
    "* Superhero movies (high budget, high viewership):  \n",
    "* Global vs local viewership\n",
    "* Famous producer/actor movies  \n",
    "\n",
    "* How polarised is the voting (mean vs median of ratings) -> These movies will probably present more challenges"
   ]
  },
  {
   "cell_type": "code",
   "execution_count": 3,
   "metadata": {},
   "outputs": [],
   "source": [
    "TARGET_CUTOFF = 7.5\n",
    "PROJECT_BASE_DIR = \"/home/rohail/projects/imdb_ratings/\"\n",
    "model_save_dir = \"models/\"\n",
    "data_dir = \"data/raw/\"\n",
    "plot_write_dir = \"reports/figures\"\n",
    "idx_columns = [\"imdb_title_id\", \"title\", \"original_title\"]"
   ]
  },
  {
   "cell_type": "markdown",
   "metadata": {},
   "source": [
    "# Exploratory analysis"
   ]
  },
  {
   "cell_type": "markdown",
   "metadata": {},
   "source": [
    "## Movies"
   ]
  },
  {
   "cell_type": "markdown",
   "metadata": {},
   "source": [
    "## Ratings"
   ]
  },
  {
   "cell_type": "markdown",
   "metadata": {},
   "source": [
    "## Actors"
   ]
  },
  {
   "cell_type": "code",
   "execution_count": null,
   "metadata": {},
   "outputs": [],
   "source": []
  },
  {
   "cell_type": "markdown",
   "metadata": {},
   "source": [
    "# Add features back to table"
   ]
  },
  {
   "cell_type": "code",
   "execution_count": null,
   "metadata": {},
   "outputs": [],
   "source": [
    "def enrich_with_features(\n",
    "    df: pd.DataFrame, idx_columns: List[str], dummy: bool\n",
    ") -> pd.DataFrame:\n",
    "    if dummy:\n",
    "        cols2keep = [\"year\", \"duration\"]\n",
    "        select = idx_columns + cols2keep + [\"avg_vote_flag\", \"avg_vote\"]\n",
    "\n",
    "    return df.loc[:, select].copy()\n",
    "\n",
    "\n",
    "df_subset = enrich_with_features(df, idx_columns, dummy=True)\n"
   ]
  }
 ],
 "metadata": {
  "kernelspec": {
   "display_name": "Python [conda env:.conda-imdb] *",
   "language": "python",
   "name": "conda-env-.conda-imdb-py"
  },
  "language_info": {
   "codemirror_mode": {
    "name": "ipython",
    "version": 3
   },
   "file_extension": ".py",
   "mimetype": "text/x-python",
   "name": "python",
   "nbconvert_exporter": "python",
   "pygments_lexer": "ipython3",
   "version": "3.7.6"
  },
  "toc": {
   "base_numbering": 1,
   "nav_menu": {},
   "number_sections": true,
   "sideBar": true,
   "skip_h1_title": false,
   "title_cell": "Table of Contents",
   "title_sidebar": "Contents",
   "toc_cell": false,
   "toc_position": {},
   "toc_section_display": true,
   "toc_window_display": false
  }
 },
 "nbformat": 4,
 "nbformat_minor": 4
}
