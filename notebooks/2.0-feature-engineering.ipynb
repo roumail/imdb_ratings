{
 "cells": [
  {
   "cell_type": "code",
   "execution_count": 1,
   "metadata": {},
   "outputs": [],
   "source": [
    "%load_ext blackcellmagic"
   ]
  },
  {
   "cell_type": "code",
   "execution_count": 2,
   "metadata": {},
   "outputs": [],
   "source": [
    "import os, pdb\n",
    "import pandas as pd\n",
    "import seaborn as sns\n",
    "import numpy as np\n",
    "from typing import List, Tuple\n",
    "from collections import defaultdict\n",
    "from sklearn.preprocessing import StandardScaler\n",
    "import matplotlib.pyplot as plt\n",
    "%matplotlib inline"
   ]
  },
  {
   "cell_type": "markdown",
   "metadata": {},
   "source": [
    "# Parameters"
   ]
  },
  {
   "cell_type": "code",
   "execution_count": 3,
   "metadata": {},
   "outputs": [],
   "source": [
    "PROJECT_BASE_DIR = \"/home/rohail/projects/imdb_ratings/\"\n",
    "data_dir = \"data/raw/\"\n",
    "plot_write_dir = \"reports/figures\"\n",
    "idx_columns = [\"imdb_title_id\", \"title\", \"original_title\"]"
   ]
  },
  {
   "cell_type": "markdown",
   "metadata": {},
   "source": [
    "# Exploratory analysis"
   ]
  },
  {
   "cell_type": "markdown",
   "metadata": {},
   "source": [
    "## Movies"
   ]
  },
  {
   "cell_type": "code",
   "execution_count": 4,
   "metadata": {},
   "outputs": [
    {
     "data": {
      "text/html": [
       "<div>\n",
       "<style scoped>\n",
       "    .dataframe tbody tr th:only-of-type {\n",
       "        vertical-align: middle;\n",
       "    }\n",
       "\n",
       "    .dataframe tbody tr th {\n",
       "        vertical-align: top;\n",
       "    }\n",
       "\n",
       "    .dataframe thead th {\n",
       "        text-align: right;\n",
       "    }\n",
       "</style>\n",
       "<table border=\"1\" class=\"dataframe\">\n",
       "  <thead>\n",
       "    <tr style=\"text-align: right;\">\n",
       "      <th></th>\n",
       "      <th>imdb_title_id</th>\n",
       "      <th>title</th>\n",
       "      <th>original_title</th>\n",
       "      <th>year</th>\n",
       "      <th>date_published</th>\n",
       "      <th>genre</th>\n",
       "      <th>duration</th>\n",
       "      <th>country</th>\n",
       "      <th>language</th>\n",
       "      <th>director</th>\n",
       "      <th>...</th>\n",
       "      <th>actors</th>\n",
       "      <th>description</th>\n",
       "      <th>avg_vote</th>\n",
       "      <th>votes</th>\n",
       "      <th>budget</th>\n",
       "      <th>usa_gross_income</th>\n",
       "      <th>worlwide_gross_income</th>\n",
       "      <th>metascore</th>\n",
       "      <th>reviews_from_users</th>\n",
       "      <th>reviews_from_critics</th>\n",
       "    </tr>\n",
       "  </thead>\n",
       "  <tbody>\n",
       "    <tr>\n",
       "      <th>0</th>\n",
       "      <td>tt0000574</td>\n",
       "      <td>The Story of the Kelly Gang</td>\n",
       "      <td>The Story of the Kelly Gang</td>\n",
       "      <td>1906</td>\n",
       "      <td>1906-12-26</td>\n",
       "      <td>Biography, Crime, Drama</td>\n",
       "      <td>70</td>\n",
       "      <td>Australia</td>\n",
       "      <td>NaN</td>\n",
       "      <td>Charles Tait</td>\n",
       "      <td>...</td>\n",
       "      <td>Elizabeth Tait, John Tait, Norman Campbell, Be...</td>\n",
       "      <td>True story of notorious Australian outlaw Ned ...</td>\n",
       "      <td>6.1</td>\n",
       "      <td>537</td>\n",
       "      <td>$ 2250</td>\n",
       "      <td>NaN</td>\n",
       "      <td>NaN</td>\n",
       "      <td>NaN</td>\n",
       "      <td>7.0</td>\n",
       "      <td>7.0</td>\n",
       "    </tr>\n",
       "    <tr>\n",
       "      <th>1</th>\n",
       "      <td>tt0001892</td>\n",
       "      <td>Den sorte drøm</td>\n",
       "      <td>Den sorte drøm</td>\n",
       "      <td>1911</td>\n",
       "      <td>1911-08-19</td>\n",
       "      <td>Drama</td>\n",
       "      <td>53</td>\n",
       "      <td>Germany, Denmark</td>\n",
       "      <td>NaN</td>\n",
       "      <td>Urban Gad</td>\n",
       "      <td>...</td>\n",
       "      <td>Asta Nielsen, Valdemar Psilander, Gunnar Helse...</td>\n",
       "      <td>Two men of high rank are both wooing the beaut...</td>\n",
       "      <td>5.9</td>\n",
       "      <td>171</td>\n",
       "      <td>NaN</td>\n",
       "      <td>NaN</td>\n",
       "      <td>NaN</td>\n",
       "      <td>NaN</td>\n",
       "      <td>4.0</td>\n",
       "      <td>2.0</td>\n",
       "    </tr>\n",
       "    <tr>\n",
       "      <th>2</th>\n",
       "      <td>tt0002101</td>\n",
       "      <td>Cleopatra</td>\n",
       "      <td>Cleopatra</td>\n",
       "      <td>1912</td>\n",
       "      <td>1912-11-13</td>\n",
       "      <td>Drama, History</td>\n",
       "      <td>100</td>\n",
       "      <td>USA</td>\n",
       "      <td>English</td>\n",
       "      <td>Charles L. Gaskill</td>\n",
       "      <td>...</td>\n",
       "      <td>Helen Gardner, Pearl Sindelar, Miss Fielding, ...</td>\n",
       "      <td>The fabled queen of Egypt's affair with Roman ...</td>\n",
       "      <td>5.2</td>\n",
       "      <td>420</td>\n",
       "      <td>$ 45000</td>\n",
       "      <td>NaN</td>\n",
       "      <td>NaN</td>\n",
       "      <td>NaN</td>\n",
       "      <td>24.0</td>\n",
       "      <td>3.0</td>\n",
       "    </tr>\n",
       "    <tr>\n",
       "      <th>3</th>\n",
       "      <td>tt0002130</td>\n",
       "      <td>L'Inferno</td>\n",
       "      <td>L'Inferno</td>\n",
       "      <td>1911</td>\n",
       "      <td>1911-03-06</td>\n",
       "      <td>Adventure, Drama, Fantasy</td>\n",
       "      <td>68</td>\n",
       "      <td>Italy</td>\n",
       "      <td>Italian</td>\n",
       "      <td>Francesco Bertolini, Adolfo Padovan</td>\n",
       "      <td>...</td>\n",
       "      <td>Salvatore Papa, Arturo Pirovano, Giuseppe de L...</td>\n",
       "      <td>Loosely adapted from Dante's Divine Comedy and...</td>\n",
       "      <td>7.0</td>\n",
       "      <td>2019</td>\n",
       "      <td>NaN</td>\n",
       "      <td>NaN</td>\n",
       "      <td>NaN</td>\n",
       "      <td>NaN</td>\n",
       "      <td>28.0</td>\n",
       "      <td>14.0</td>\n",
       "    </tr>\n",
       "    <tr>\n",
       "      <th>4</th>\n",
       "      <td>tt0002199</td>\n",
       "      <td>From the Manger to the Cross; or, Jesus of Naz...</td>\n",
       "      <td>From the Manger to the Cross; or, Jesus of Naz...</td>\n",
       "      <td>1912</td>\n",
       "      <td>1913</td>\n",
       "      <td>Biography, Drama</td>\n",
       "      <td>60</td>\n",
       "      <td>USA</td>\n",
       "      <td>English</td>\n",
       "      <td>Sidney Olcott</td>\n",
       "      <td>...</td>\n",
       "      <td>R. Henderson Bland, Percy Dyer, Gene Gauntier,...</td>\n",
       "      <td>An account of the life of Jesus Christ, based ...</td>\n",
       "      <td>5.7</td>\n",
       "      <td>438</td>\n",
       "      <td>NaN</td>\n",
       "      <td>NaN</td>\n",
       "      <td>NaN</td>\n",
       "      <td>NaN</td>\n",
       "      <td>12.0</td>\n",
       "      <td>5.0</td>\n",
       "    </tr>\n",
       "  </tbody>\n",
       "</table>\n",
       "<p>5 rows × 22 columns</p>\n",
       "</div>"
      ],
      "text/plain": [
       "  imdb_title_id                                              title  \\\n",
       "0     tt0000574                        The Story of the Kelly Gang   \n",
       "1     tt0001892                                     Den sorte drøm   \n",
       "2     tt0002101                                          Cleopatra   \n",
       "3     tt0002130                                          L'Inferno   \n",
       "4     tt0002199  From the Manger to the Cross; or, Jesus of Naz...   \n",
       "\n",
       "                                      original_title  year date_published  \\\n",
       "0                        The Story of the Kelly Gang  1906     1906-12-26   \n",
       "1                                     Den sorte drøm  1911     1911-08-19   \n",
       "2                                          Cleopatra  1912     1912-11-13   \n",
       "3                                          L'Inferno  1911     1911-03-06   \n",
       "4  From the Manger to the Cross; or, Jesus of Naz...  1912           1913   \n",
       "\n",
       "                       genre  duration           country language  \\\n",
       "0    Biography, Crime, Drama        70         Australia      NaN   \n",
       "1                      Drama        53  Germany, Denmark      NaN   \n",
       "2             Drama, History       100               USA  English   \n",
       "3  Adventure, Drama, Fantasy        68             Italy  Italian   \n",
       "4           Biography, Drama        60               USA  English   \n",
       "\n",
       "                              director  ...  \\\n",
       "0                         Charles Tait  ...   \n",
       "1                            Urban Gad  ...   \n",
       "2                   Charles L. Gaskill  ...   \n",
       "3  Francesco Bertolini, Adolfo Padovan  ...   \n",
       "4                        Sidney Olcott  ...   \n",
       "\n",
       "                                              actors  \\\n",
       "0  Elizabeth Tait, John Tait, Norman Campbell, Be...   \n",
       "1  Asta Nielsen, Valdemar Psilander, Gunnar Helse...   \n",
       "2  Helen Gardner, Pearl Sindelar, Miss Fielding, ...   \n",
       "3  Salvatore Papa, Arturo Pirovano, Giuseppe de L...   \n",
       "4  R. Henderson Bland, Percy Dyer, Gene Gauntier,...   \n",
       "\n",
       "                                         description avg_vote votes   budget  \\\n",
       "0  True story of notorious Australian outlaw Ned ...      6.1   537   $ 2250   \n",
       "1  Two men of high rank are both wooing the beaut...      5.9   171      NaN   \n",
       "2  The fabled queen of Egypt's affair with Roman ...      5.2   420  $ 45000   \n",
       "3  Loosely adapted from Dante's Divine Comedy and...      7.0  2019      NaN   \n",
       "4  An account of the life of Jesus Christ, based ...      5.7   438      NaN   \n",
       "\n",
       "   usa_gross_income worlwide_gross_income metascore reviews_from_users  \\\n",
       "0               NaN                   NaN       NaN                7.0   \n",
       "1               NaN                   NaN       NaN                4.0   \n",
       "2               NaN                   NaN       NaN               24.0   \n",
       "3               NaN                   NaN       NaN               28.0   \n",
       "4               NaN                   NaN       NaN               12.0   \n",
       "\n",
       "   reviews_from_critics  \n",
       "0                   7.0  \n",
       "1                   2.0  \n",
       "2                   3.0  \n",
       "3                  14.0  \n",
       "4                   5.0  \n",
       "\n",
       "[5 rows x 22 columns]"
      ]
     },
     "execution_count": 4,
     "metadata": {},
     "output_type": "execute_result"
    }
   ],
   "source": [
    "df_movies = pd.read_csv(os.path.join(PROJECT_BASE_DIR, data_dir, \"movies.csv\"))\n",
    "df_movies.head()"
   ]
  },
  {
   "cell_type": "markdown",
   "metadata": {},
   "source": [
    "### Country"
   ]
  },
  {
   "cell_type": "code",
   "execution_count": 5,
   "metadata": {},
   "outputs": [
    {
     "data": {
      "text/plain": [
       "39"
      ]
     },
     "execution_count": 5,
     "metadata": {},
     "output_type": "execute_result"
    }
   ],
   "source": [
    "sum(df_movies.country.isna())"
   ]
  },
  {
   "cell_type": "code",
   "execution_count": 6,
   "metadata": {
    "scrolled": true
   },
   "outputs": [
    {
     "data": {
      "text/plain": [
       "USA       29712\n",
       "India      5658\n",
       "UK         5573\n",
       "France     5043\n",
       "Italy      3548\n",
       "Name: primary_country, dtype: int64"
      ]
     },
     "execution_count": 6,
     "metadata": {},
     "output_type": "execute_result"
    }
   ],
   "source": [
    "df_movies.loc[:, \"primary_country\"] = df_movies.country.str.split(\",\").apply(\n",
    "    lambda s: s[0] if isinstance(s, list) else s\n",
    ")\n",
    "df_movies.loc[:, \"primary_country\"] = df_movies.primary_country.fillna(\"not_available\")\n",
    "df_movies.primary_country.value_counts().head()"
   ]
  },
  {
   "cell_type": "code",
   "execution_count": 7,
   "metadata": {},
   "outputs": [],
   "source": [
    "def collapse_categorical_variable(df: pd.DataFrame, column: str, percentage_cutoff: float = 80.0) -> pd.DataFrame:\n",
    "    \n",
    "    assert sum(df[column].isna()) == 0\n",
    "    proportion = (\n",
    "    df_movies[column].value_counts().sort_values(ascending=False).reset_index()\n",
    "    )\n",
    "    proportion.loc[:, \"cumpercentage\"] = (\n",
    "        proportion[column].cumsum()\n",
    "        / proportion[column].sum()\n",
    "        * 100\n",
    "    )\n",
    "    values_to_consider = proportion.loc[proportion[\"cumpercentage\"] < percentage_cutoff,\n",
    "                                                     \"index\"].to_list()\n",
    "    df.loc[~df[column].isin(values_to_consider), column] = \"other\"\n",
    "    print(df[column].value_counts())\n",
    "    return df\n",
    "    "
   ]
  },
  {
   "cell_type": "code",
   "execution_count": 8,
   "metadata": {},
   "outputs": [
    {
     "name": "stdout",
     "output_type": "stream",
     "text": [
      "USA            29712\n",
      "other          16962\n",
      "India           5658\n",
      "UK              5573\n",
      "France          5043\n",
      "Italy           3548\n",
      "Japan           3043\n",
      "Canada          2385\n",
      "Germany         1969\n",
      "Spain           1687\n",
      "Hong Kong       1490\n",
      "Turkey          1331\n",
      "South Korea     1119\n",
      "Australia        912\n",
      "Russia           841\n",
      "Name: primary_country, dtype: int64\n"
     ]
    }
   ],
   "source": [
    "df_movies = collapse_categorical_variable(df_movies, \"primary_country\")"
   ]
  },
  {
   "cell_type": "markdown",
   "metadata": {},
   "source": [
    "### Language"
   ]
  },
  {
   "cell_type": "code",
   "execution_count": 9,
   "metadata": {},
   "outputs": [
    {
     "data": {
      "text/plain": [
       "755"
      ]
     },
     "execution_count": 9,
     "metadata": {},
     "output_type": "execute_result"
    }
   ],
   "source": [
    "sum(df_movies.language.isna())"
   ]
  },
  {
   "cell_type": "code",
   "execution_count": 10,
   "metadata": {},
   "outputs": [
    {
     "data": {
      "text/plain": [
       "English     41036\n",
       "French       5184\n",
       "Spanish      3197\n",
       "Italian      3071\n",
       "Japanese     2941\n",
       "Name: primary_language, dtype: int64"
      ]
     },
     "execution_count": 10,
     "metadata": {},
     "output_type": "execute_result"
    }
   ],
   "source": [
    "df_movies.loc[:, \"primary_language\"] = df_movies.language.str.split(\",\").apply(\n",
    "    lambda s: s[0] if isinstance(s, list) else s\n",
    ")\n",
    "df_movies.loc[:, \"primary_language\"] = df_movies.primary_language.fillna(\"not_available\")\n",
    "df_movies.primary_language.value_counts().head()"
   ]
  },
  {
   "cell_type": "code",
   "execution_count": 11,
   "metadata": {},
   "outputs": [
    {
     "name": "stdout",
     "output_type": "stream",
     "text": [
      "English     41036\n",
      "other       17129\n",
      "French       5184\n",
      "Spanish      3197\n",
      "Italian      3071\n",
      "Japanese     2941\n",
      "Hindi        2429\n",
      "German       2291\n",
      "Russian      1529\n",
      "Turkish      1330\n",
      "Mandarin     1136\n",
      "Name: primary_language, dtype: int64\n"
     ]
    }
   ],
   "source": [
    "df_movies = collapse_categorical_variable(df_movies, \"primary_language\")"
   ]
  },
  {
   "cell_type": "markdown",
   "metadata": {},
   "source": [
    "### Genre"
   ]
  },
  {
   "cell_type": "code",
   "execution_count": 12,
   "metadata": {},
   "outputs": [
    {
     "data": {
      "text/plain": [
       "0"
      ]
     },
     "execution_count": 12,
     "metadata": {},
     "output_type": "execute_result"
    }
   ],
   "source": [
    "sum(df_movies.genre.isna())"
   ]
  },
  {
   "cell_type": "code",
   "execution_count": 13,
   "metadata": {},
   "outputs": [
    {
     "data": {
      "text/plain": [
       "23"
      ]
     },
     "execution_count": 13,
     "metadata": {},
     "output_type": "execute_result"
    }
   ],
   "source": [
    "df_movies.loc[:, \"primary_genre\"] = df_movies.genre.str.split(\",\").apply(\n",
    "    lambda s: s[0] if isinstance(s, list) else s\n",
    ")\n",
    "len(df_movies.primary_genre.value_counts())"
   ]
  },
  {
   "cell_type": "markdown",
   "metadata": {},
   "source": [
    "### Global/local \n",
    "For foreign movies, check if it has been released in US (global vs local) or worldwide...\n"
   ]
  },
  {
   "cell_type": "code",
   "execution_count": 14,
   "metadata": {
    "scrolled": true
   },
   "outputs": [
    {
     "data": {
      "text/plain": [
       "False    44489\n",
       "True     36784\n",
       "Name: global, dtype: int64"
      ]
     },
     "execution_count": 14,
     "metadata": {},
     "output_type": "execute_result"
    }
   ],
   "source": [
    "def global_movie(row):\n",
    "    def is_non_us_grossing_movie(row):\n",
    "        return ((pd.notnull(row[\"usa_gross_income\"])) & (row[\"primary_country\"] != \"USA\"))\n",
    "\n",
    "    def is_worldwide_grossing_movie(row):\n",
    "        return True if isinstance(row[\"worlwide_gross_income\"], str) else False\n",
    "\n",
    "    def is_released_in_multiple_locations(row):\n",
    "        return \",\" in row[\"country\"] if isinstance(row[\"country\"], str) else False\n",
    "\n",
    "    flag = (\n",
    "        (is_non_us_grossing_movie(row))\n",
    "        | (is_worldwide_grossing_movie(row))\n",
    "        | (is_released_in_multiple_locations(row))\n",
    "    )\n",
    "    return flag\n",
    "\n",
    "\n",
    "df_movies.loc[:, \"global\"] = df_movies.apply(global_movie, axis= \"columns\")\n",
    "df_movies[\"global\"].value_counts()"
   ]
  },
  {
   "cell_type": "markdown",
   "metadata": {},
   "source": [
    "### User/critics reviews"
   ]
  },
  {
   "cell_type": "code",
   "execution_count": 15,
   "metadata": {},
   "outputs": [
    {
     "data": {
      "text/plain": [
       "0.18173317091777097"
      ]
     },
     "execution_count": 15,
     "metadata": {},
     "output_type": "execute_result"
    }
   ],
   "source": [
    "missing_user_critic_review_mask = (\n",
    "    df_movies[[\"reviews_from_users\", \"reviews_from_critics\"]].isna().any(\"columns\")\n",
    ")\n",
    "(missing_user_critic_review_mask.sum())/len(df_movies) "
   ]
  },
  {
   "cell_type": "code",
   "execution_count": 16,
   "metadata": {},
   "outputs": [
    {
     "data": {
      "text/html": [
       "<div>\n",
       "<style scoped>\n",
       "    .dataframe tbody tr th:only-of-type {\n",
       "        vertical-align: middle;\n",
       "    }\n",
       "\n",
       "    .dataframe tbody tr th {\n",
       "        vertical-align: top;\n",
       "    }\n",
       "\n",
       "    .dataframe thead th {\n",
       "        text-align: right;\n",
       "    }\n",
       "</style>\n",
       "<table border=\"1\" class=\"dataframe\">\n",
       "  <thead>\n",
       "    <tr style=\"text-align: right;\">\n",
       "      <th></th>\n",
       "      <th>primary_country</th>\n",
       "      <th>primary_language</th>\n",
       "      <th>primary_genre</th>\n",
       "      <th>prop_missing</th>\n",
       "    </tr>\n",
       "  </thead>\n",
       "  <tbody>\n",
       "    <tr>\n",
       "      <th>452</th>\n",
       "      <td>Russia</td>\n",
       "      <td>Russian</td>\n",
       "      <td>Sport</td>\n",
       "      <td>1.0</td>\n",
       "    </tr>\n",
       "    <tr>\n",
       "      <th>44</th>\n",
       "      <td>Canada</td>\n",
       "      <td>English</td>\n",
       "      <td>Music</td>\n",
       "      <td>1.0</td>\n",
       "    </tr>\n",
       "    <tr>\n",
       "      <th>800</th>\n",
       "      <td>other</td>\n",
       "      <td>Japanese</td>\n",
       "      <td>Music</td>\n",
       "      <td>1.0</td>\n",
       "    </tr>\n",
       "    <tr>\n",
       "      <th>797</th>\n",
       "      <td>other</td>\n",
       "      <td>Japanese</td>\n",
       "      <td>Comedy</td>\n",
       "      <td>1.0</td>\n",
       "    </tr>\n",
       "    <tr>\n",
       "      <th>786</th>\n",
       "      <td>other</td>\n",
       "      <td>Hindi</td>\n",
       "      <td>Drama</td>\n",
       "      <td>1.0</td>\n",
       "    </tr>\n",
       "  </tbody>\n",
       "</table>\n",
       "</div>"
      ],
      "text/plain": [
       "    primary_country primary_language primary_genre  prop_missing\n",
       "452          Russia          Russian         Sport           1.0\n",
       "44           Canada          English         Music           1.0\n",
       "800           other         Japanese         Music           1.0\n",
       "797           other         Japanese        Comedy           1.0\n",
       "786           other            Hindi         Drama           1.0"
      ]
     },
     "execution_count": 16,
     "metadata": {},
     "output_type": "execute_result"
    }
   ],
   "source": [
    "def missing_user_critic_review(df):\n",
    "    return (df.isna().any(\"columns\").sum())/len(df)\n",
    "\n",
    "df_na_check = df_movies.groupby([\"primary_country\", \"primary_language\", \"primary_genre\"])[\n",
    "    \"reviews_from_users\", \"reviews_from_critics\"\n",
    "].apply(missing_user_critic_review).reset_index()\n",
    "df_na_check.rename(columns = {0: \"prop_missing\"}, inplace = True)\n",
    "df_na_check = df_na_check.loc[df_na_check[\"prop_missing\"] > 0].copy()\n",
    "df_na_check.sort_values(\"prop_missing\", ascending = False).head()"
   ]
  },
  {
   "cell_type": "code",
   "execution_count": 17,
   "metadata": {},
   "outputs": [
    {
     "data": {
      "text/plain": [
       "0.09218436873747494"
      ]
     },
     "execution_count": 17,
     "metadata": {},
     "output_type": "execute_result"
    }
   ],
   "source": [
    "len(df_na_check.loc[df_na_check.prop_missing == 1])/len(df_na_check)"
   ]
  },
  {
   "cell_type": "code",
   "execution_count": 18,
   "metadata": {},
   "outputs": [
    {
     "data": {
      "text/plain": [
       "other          108\n",
       "India           40\n",
       "Italy           38\n",
       "USA             36\n",
       "France          35\n",
       "Spain           33\n",
       "Germany         33\n",
       "Canada          32\n",
       "UK              25\n",
       "Turkey          24\n",
       "Japan           23\n",
       "Russia          21\n",
       "Hong Kong       18\n",
       "South Korea     17\n",
       "Australia       16\n",
       "Name: primary_country, dtype: int64"
      ]
     },
     "execution_count": 18,
     "metadata": {},
     "output_type": "execute_result"
    }
   ],
   "source": [
    "df_na_check.primary_country.value_counts()"
   ]
  },
  {
   "cell_type": "code",
   "execution_count": 19,
   "metadata": {},
   "outputs": [
    {
     "data": {
      "text/plain": [
       "Drama        63\n",
       "Comedy       51\n",
       "Action       39\n",
       "Crime        36\n",
       "Animation    35\n",
       "Adventure    33\n",
       "Biography    30\n",
       "Thriller     26\n",
       "Horror       26\n",
       "Romance      24\n",
       "Mystery      19\n",
       "Musical      19\n",
       "Family       18\n",
       "Fantasy      16\n",
       "Sci-Fi       14\n",
       "War          12\n",
       "History      11\n",
       "Music        11\n",
       "Western      10\n",
       "Sport         6\n",
       "Name: primary_genre, dtype: int64"
      ]
     },
     "execution_count": 19,
     "metadata": {},
     "output_type": "execute_result"
    }
   ],
   "source": [
    "df_na_check.primary_genre.value_counts()"
   ]
  },
  {
   "cell_type": "code",
   "execution_count": 20,
   "metadata": {},
   "outputs": [
    {
     "data": {
      "text/plain": [
       "English     138\n",
       "other       107\n",
       "French       41\n",
       "Spanish      39\n",
       "Russian      33\n",
       "German       33\n",
       "Italian      26\n",
       "Turkish      22\n",
       "Japanese     22\n",
       "Mandarin     20\n",
       "Hindi        18\n",
       "Name: primary_language, dtype: int64"
      ]
     },
     "execution_count": 20,
     "metadata": {},
     "output_type": "execute_result"
    }
   ],
   "source": [
    "df_na_check.primary_language.value_counts()"
   ]
  },
  {
   "cell_type": "markdown",
   "metadata": {},
   "source": [
    "> No specific pattern of missingness - Can remove these rows"
   ]
  },
  {
   "cell_type": "code",
   "execution_count": 21,
   "metadata": {
    "scrolled": true
   },
   "outputs": [
    {
     "data": {
      "text/plain": [
       "Index(['imdb_title_id', 'title', 'original_title', 'year', 'date_published',\n",
       "       'genre', 'duration', 'country', 'language', 'director', 'writer',\n",
       "       'production_company', 'actors', 'description', 'avg_vote', 'votes',\n",
       "       'budget', 'usa_gross_income', 'worlwide_gross_income', 'metascore',\n",
       "       'reviews_from_users', 'reviews_from_critics', 'primary_country',\n",
       "       'primary_language', 'primary_genre', 'global'],\n",
       "      dtype='object')"
      ]
     },
     "execution_count": 21,
     "metadata": {},
     "output_type": "execute_result"
    }
   ],
   "source": [
    "df_movies.columns"
   ]
  },
  {
   "cell_type": "code",
   "execution_count": 22,
   "metadata": {},
   "outputs": [
    {
     "data": {
      "text/plain": [
       "False    13670\n",
       "True      1100\n",
       "Name: avg_vote, dtype: int64"
      ]
     },
     "execution_count": 22,
     "metadata": {},
     "output_type": "execute_result"
    }
   ],
   "source": [
    "# before removing these rows... do we lose any good samples for positive examples?\n",
    "\n",
    "ratings_with_missing_review = df_movies.loc[missing_user_critic_review_mask, \"avg_vote\"]\n",
    "(ratings_with_missing_review >= 7.5).value_counts()"
   ]
  },
  {
   "cell_type": "code",
   "execution_count": 23,
   "metadata": {},
   "outputs": [
    {
     "data": {
      "text/plain": [
       "0.06910966422567404"
      ]
     },
     "execution_count": 23,
     "metadata": {},
     "output_type": "execute_result"
    }
   ],
   "source": [
    "sum(df_movies.loc[~missing_user_critic_review_mask, \"avg_vote\"] >= 7.5)/len(df_movies.loc[~missing_user_critic_review_mask, \"avg_vote\"])"
   ]
  },
  {
   "cell_type": "markdown",
   "metadata": {},
   "source": [
    "> Class imabalance slightly increased"
   ]
  },
  {
   "cell_type": "code",
   "execution_count": 24,
   "metadata": {},
   "outputs": [
    {
     "data": {
      "text/plain": [
       "count    499.000000\n",
       "mean       0.321574\n",
       "std        0.281082\n",
       "min        0.004878\n",
       "25%        0.104356\n",
       "50%        0.230769\n",
       "75%        0.500000\n",
       "max        1.000000\n",
       "Name: prop_missing, dtype: float64"
      ]
     },
     "execution_count": 24,
     "metadata": {},
     "output_type": "execute_result"
    }
   ],
   "source": [
    "df_na_check.prop_missing.describe()"
   ]
  },
  {
   "cell_type": "code",
   "execution_count": 25,
   "metadata": {},
   "outputs": [
    {
     "data": {
      "text/html": [
       "<div>\n",
       "<style scoped>\n",
       "    .dataframe tbody tr th:only-of-type {\n",
       "        vertical-align: middle;\n",
       "    }\n",
       "\n",
       "    .dataframe tbody tr th {\n",
       "        vertical-align: top;\n",
       "    }\n",
       "\n",
       "    .dataframe thead th {\n",
       "        text-align: right;\n",
       "    }\n",
       "</style>\n",
       "<table border=\"1\" class=\"dataframe\">\n",
       "  <thead>\n",
       "    <tr style=\"text-align: right;\">\n",
       "      <th></th>\n",
       "      <th>primary_country</th>\n",
       "      <th>primary_language</th>\n",
       "      <th>primary_genre</th>\n",
       "      <th>prop_missing</th>\n",
       "    </tr>\n",
       "  </thead>\n",
       "  <tbody>\n",
       "    <tr>\n",
       "      <th>417</th>\n",
       "      <td>Japan</td>\n",
       "      <td>Russian</td>\n",
       "      <td>Animation</td>\n",
       "      <td>1.000000</td>\n",
       "    </tr>\n",
       "    <tr>\n",
       "      <th>590</th>\n",
       "      <td>Turkey</td>\n",
       "      <td>Turkish</td>\n",
       "      <td>Sport</td>\n",
       "      <td>1.000000</td>\n",
       "    </tr>\n",
       "    <tr>\n",
       "      <th>396</th>\n",
       "      <td>Japan</td>\n",
       "      <td>Italian</td>\n",
       "      <td>Sci-Fi</td>\n",
       "      <td>1.000000</td>\n",
       "    </tr>\n",
       "    <tr>\n",
       "      <th>392</th>\n",
       "      <td>Japan</td>\n",
       "      <td>English</td>\n",
       "      <td>War</td>\n",
       "      <td>1.000000</td>\n",
       "    </tr>\n",
       "    <tr>\n",
       "      <th>390</th>\n",
       "      <td>Japan</td>\n",
       "      <td>English</td>\n",
       "      <td>Musical</td>\n",
       "      <td>1.000000</td>\n",
       "    </tr>\n",
       "    <tr>\n",
       "      <th>584</th>\n",
       "      <td>Turkey</td>\n",
       "      <td>Turkish</td>\n",
       "      <td>History</td>\n",
       "      <td>1.000000</td>\n",
       "    </tr>\n",
       "    <tr>\n",
       "      <th>98</th>\n",
       "      <td>France</td>\n",
       "      <td>English</td>\n",
       "      <td>Romance</td>\n",
       "      <td>1.000000</td>\n",
       "    </tr>\n",
       "    <tr>\n",
       "      <th>582</th>\n",
       "      <td>Turkey</td>\n",
       "      <td>Turkish</td>\n",
       "      <td>Family</td>\n",
       "      <td>1.000000</td>\n",
       "    </tr>\n",
       "    <tr>\n",
       "      <th>370</th>\n",
       "      <td>Italy</td>\n",
       "      <td>Turkish</td>\n",
       "      <td>Action</td>\n",
       "      <td>1.000000</td>\n",
       "    </tr>\n",
       "    <tr>\n",
       "      <th>571</th>\n",
       "      <td>Turkey</td>\n",
       "      <td>French</td>\n",
       "      <td>Drama</td>\n",
       "      <td>1.000000</td>\n",
       "    </tr>\n",
       "    <tr>\n",
       "      <th>148</th>\n",
       "      <td>France</td>\n",
       "      <td>Turkish</td>\n",
       "      <td>Comedy</td>\n",
       "      <td>1.000000</td>\n",
       "    </tr>\n",
       "    <tr>\n",
       "      <th>566</th>\n",
       "      <td>Turkey</td>\n",
       "      <td>English</td>\n",
       "      <td>Animation</td>\n",
       "      <td>1.000000</td>\n",
       "    </tr>\n",
       "    <tr>\n",
       "      <th>447</th>\n",
       "      <td>Russia</td>\n",
       "      <td>Russian</td>\n",
       "      <td>History</td>\n",
       "      <td>1.000000</td>\n",
       "    </tr>\n",
       "    <tr>\n",
       "      <th>543</th>\n",
       "      <td>Spain</td>\n",
       "      <td>Spanish</td>\n",
       "      <td>Family</td>\n",
       "      <td>1.000000</td>\n",
       "    </tr>\n",
       "    <tr>\n",
       "      <th>352</th>\n",
       "      <td>Italy</td>\n",
       "      <td>Italian</td>\n",
       "      <td>Music</td>\n",
       "      <td>1.000000</td>\n",
       "    </tr>\n",
       "    <tr>\n",
       "      <th>413</th>\n",
       "      <td>Japan</td>\n",
       "      <td>Japanese</td>\n",
       "      <td>Western</td>\n",
       "      <td>1.000000</td>\n",
       "    </tr>\n",
       "    <tr>\n",
       "      <th>212</th>\n",
       "      <td>Germany</td>\n",
       "      <td>Turkish</td>\n",
       "      <td>Biography</td>\n",
       "      <td>1.000000</td>\n",
       "    </tr>\n",
       "    <tr>\n",
       "      <th>452</th>\n",
       "      <td>Russia</td>\n",
       "      <td>Russian</td>\n",
       "      <td>Sport</td>\n",
       "      <td>1.000000</td>\n",
       "    </tr>\n",
       "    <tr>\n",
       "      <th>348</th>\n",
       "      <td>Italy</td>\n",
       "      <td>Italian</td>\n",
       "      <td>Family</td>\n",
       "      <td>1.000000</td>\n",
       "    </tr>\n",
       "    <tr>\n",
       "      <th>276</th>\n",
       "      <td>India</td>\n",
       "      <td>French</td>\n",
       "      <td>Adventure</td>\n",
       "      <td>1.000000</td>\n",
       "    </tr>\n",
       "    <tr>\n",
       "      <th>466</th>\n",
       "      <td>South Korea</td>\n",
       "      <td>English</td>\n",
       "      <td>Musical</td>\n",
       "      <td>1.000000</td>\n",
       "    </tr>\n",
       "    <tr>\n",
       "      <th>511</th>\n",
       "      <td>Spain</td>\n",
       "      <td>English</td>\n",
       "      <td>Sci-Fi</td>\n",
       "      <td>1.000000</td>\n",
       "    </tr>\n",
       "    <tr>\n",
       "      <th>471</th>\n",
       "      <td>South Korea</td>\n",
       "      <td>Japanese</td>\n",
       "      <td>Biography</td>\n",
       "      <td>1.000000</td>\n",
       "    </tr>\n",
       "    <tr>\n",
       "      <th>589</th>\n",
       "      <td>Turkey</td>\n",
       "      <td>Turkish</td>\n",
       "      <td>Sci-Fi</td>\n",
       "      <td>1.000000</td>\n",
       "    </tr>\n",
       "    <tr>\n",
       "      <th>125</th>\n",
       "      <td>France</td>\n",
       "      <td>German</td>\n",
       "      <td>Music</td>\n",
       "      <td>1.000000</td>\n",
       "    </tr>\n",
       "    <tr>\n",
       "      <th>291</th>\n",
       "      <td>India</td>\n",
       "      <td>Hindi</td>\n",
       "      <td>Sport</td>\n",
       "      <td>1.000000</td>\n",
       "    </tr>\n",
       "    <tr>\n",
       "      <th>690</th>\n",
       "      <td>USA</td>\n",
       "      <td>Italian</td>\n",
       "      <td>Crime</td>\n",
       "      <td>1.000000</td>\n",
       "    </tr>\n",
       "    <tr>\n",
       "      <th>707</th>\n",
       "      <td>USA</td>\n",
       "      <td>Spanish</td>\n",
       "      <td>Animation</td>\n",
       "      <td>1.000000</td>\n",
       "    </tr>\n",
       "    <tr>\n",
       "      <th>14</th>\n",
       "      <td>Australia</td>\n",
       "      <td>English</td>\n",
       "      <td>Romance</td>\n",
       "      <td>1.000000</td>\n",
       "    </tr>\n",
       "    <tr>\n",
       "      <th>692</th>\n",
       "      <td>USA</td>\n",
       "      <td>Japanese</td>\n",
       "      <td>Adventure</td>\n",
       "      <td>1.000000</td>\n",
       "    </tr>\n",
       "    <tr>\n",
       "      <th>...</th>\n",
       "      <td>...</td>\n",
       "      <td>...</td>\n",
       "      <td>...</td>\n",
       "      <td>...</td>\n",
       "    </tr>\n",
       "    <tr>\n",
       "      <th>402</th>\n",
       "      <td>Japan</td>\n",
       "      <td>Japanese</td>\n",
       "      <td>Crime</td>\n",
       "      <td>0.049296</td>\n",
       "    </tr>\n",
       "    <tr>\n",
       "      <th>354</th>\n",
       "      <td>Italy</td>\n",
       "      <td>Italian</td>\n",
       "      <td>Mystery</td>\n",
       "      <td>0.047619</td>\n",
       "    </tr>\n",
       "    <tr>\n",
       "      <th>499</th>\n",
       "      <td>Spain</td>\n",
       "      <td>English</td>\n",
       "      <td>Action</td>\n",
       "      <td>0.045455</td>\n",
       "    </tr>\n",
       "    <tr>\n",
       "      <th>33</th>\n",
       "      <td>Canada</td>\n",
       "      <td>English</td>\n",
       "      <td>Action</td>\n",
       "      <td>0.044983</td>\n",
       "    </tr>\n",
       "    <tr>\n",
       "      <th>340</th>\n",
       "      <td>Italy</td>\n",
       "      <td>Italian</td>\n",
       "      <td>Action</td>\n",
       "      <td>0.043307</td>\n",
       "    </tr>\n",
       "    <tr>\n",
       "      <th>278</th>\n",
       "      <td>India</td>\n",
       "      <td>Hindi</td>\n",
       "      <td>Adventure</td>\n",
       "      <td>0.041667</td>\n",
       "    </tr>\n",
       "    <tr>\n",
       "      <th>659</th>\n",
       "      <td>USA</td>\n",
       "      <td>English</td>\n",
       "      <td>Crime</td>\n",
       "      <td>0.041575</td>\n",
       "    </tr>\n",
       "    <tr>\n",
       "      <th>161</th>\n",
       "      <td>Germany</td>\n",
       "      <td>English</td>\n",
       "      <td>Adventure</td>\n",
       "      <td>0.040000</td>\n",
       "    </tr>\n",
       "    <tr>\n",
       "      <th>546</th>\n",
       "      <td>Spain</td>\n",
       "      <td>Spanish</td>\n",
       "      <td>Horror</td>\n",
       "      <td>0.040000</td>\n",
       "    </tr>\n",
       "    <tr>\n",
       "      <th>503</th>\n",
       "      <td>Spain</td>\n",
       "      <td>English</td>\n",
       "      <td>Comedy</td>\n",
       "      <td>0.040000</td>\n",
       "    </tr>\n",
       "    <tr>\n",
       "      <th>10</th>\n",
       "      <td>Australia</td>\n",
       "      <td>English</td>\n",
       "      <td>Horror</td>\n",
       "      <td>0.038961</td>\n",
       "    </tr>\n",
       "    <tr>\n",
       "      <th>359</th>\n",
       "      <td>Italy</td>\n",
       "      <td>Italian</td>\n",
       "      <td>Western</td>\n",
       "      <td>0.038835</td>\n",
       "    </tr>\n",
       "    <tr>\n",
       "      <th>92</th>\n",
       "      <td>France</td>\n",
       "      <td>English</td>\n",
       "      <td>Drama</td>\n",
       "      <td>0.038710</td>\n",
       "    </tr>\n",
       "    <tr>\n",
       "      <th>312</th>\n",
       "      <td>Italy</td>\n",
       "      <td>English</td>\n",
       "      <td>Action</td>\n",
       "      <td>0.037975</td>\n",
       "    </tr>\n",
       "    <tr>\n",
       "      <th>597</th>\n",
       "      <td>UK</td>\n",
       "      <td>English</td>\n",
       "      <td>Adventure</td>\n",
       "      <td>0.034682</td>\n",
       "    </tr>\n",
       "    <tr>\n",
       "      <th>665</th>\n",
       "      <td>USA</td>\n",
       "      <td>English</td>\n",
       "      <td>Horror</td>\n",
       "      <td>0.034130</td>\n",
       "    </tr>\n",
       "    <tr>\n",
       "      <th>36</th>\n",
       "      <td>Canada</td>\n",
       "      <td>English</td>\n",
       "      <td>Biography</td>\n",
       "      <td>0.033333</td>\n",
       "    </tr>\n",
       "    <tr>\n",
       "      <th>607</th>\n",
       "      <td>UK</td>\n",
       "      <td>English</td>\n",
       "      <td>Horror</td>\n",
       "      <td>0.032538</td>\n",
       "    </tr>\n",
       "    <tr>\n",
       "      <th>189</th>\n",
       "      <td>Germany</td>\n",
       "      <td>German</td>\n",
       "      <td>Horror</td>\n",
       "      <td>0.031250</td>\n",
       "    </tr>\n",
       "    <tr>\n",
       "      <th>657</th>\n",
       "      <td>USA</td>\n",
       "      <td>English</td>\n",
       "      <td>Biography</td>\n",
       "      <td>0.029703</td>\n",
       "    </tr>\n",
       "    <tr>\n",
       "      <th>86</th>\n",
       "      <td>France</td>\n",
       "      <td>English</td>\n",
       "      <td>Action</td>\n",
       "      <td>0.027778</td>\n",
       "    </tr>\n",
       "    <tr>\n",
       "      <th>91</th>\n",
       "      <td>France</td>\n",
       "      <td>English</td>\n",
       "      <td>Crime</td>\n",
       "      <td>0.027027</td>\n",
       "    </tr>\n",
       "    <tr>\n",
       "      <th>43</th>\n",
       "      <td>Canada</td>\n",
       "      <td>English</td>\n",
       "      <td>Horror</td>\n",
       "      <td>0.021368</td>\n",
       "    </tr>\n",
       "    <tr>\n",
       "      <th>1</th>\n",
       "      <td>Australia</td>\n",
       "      <td>English</td>\n",
       "      <td>Adventure</td>\n",
       "      <td>0.019231</td>\n",
       "    </tr>\n",
       "    <tr>\n",
       "      <th>599</th>\n",
       "      <td>UK</td>\n",
       "      <td>English</td>\n",
       "      <td>Biography</td>\n",
       "      <td>0.018657</td>\n",
       "    </tr>\n",
       "    <tr>\n",
       "      <th>179</th>\n",
       "      <td>Germany</td>\n",
       "      <td>German</td>\n",
       "      <td>Action</td>\n",
       "      <td>0.017544</td>\n",
       "    </tr>\n",
       "    <tr>\n",
       "      <th>225</th>\n",
       "      <td>Hong Kong</td>\n",
       "      <td>English</td>\n",
       "      <td>Action</td>\n",
       "      <td>0.017544</td>\n",
       "    </tr>\n",
       "    <tr>\n",
       "      <th>112</th>\n",
       "      <td>France</td>\n",
       "      <td>French</td>\n",
       "      <td>Horror</td>\n",
       "      <td>0.017544</td>\n",
       "    </tr>\n",
       "    <tr>\n",
       "      <th>351</th>\n",
       "      <td>Italy</td>\n",
       "      <td>Italian</td>\n",
       "      <td>Horror</td>\n",
       "      <td>0.011494</td>\n",
       "    </tr>\n",
       "    <tr>\n",
       "      <th>239</th>\n",
       "      <td>Hong Kong</td>\n",
       "      <td>Mandarin</td>\n",
       "      <td>Action</td>\n",
       "      <td>0.004878</td>\n",
       "    </tr>\n",
       "  </tbody>\n",
       "</table>\n",
       "<p>303 rows × 4 columns</p>\n",
       "</div>"
      ],
      "text/plain": [
       "    primary_country primary_language primary_genre  prop_missing\n",
       "417           Japan          Russian     Animation      1.000000\n",
       "590          Turkey          Turkish         Sport      1.000000\n",
       "396           Japan          Italian        Sci-Fi      1.000000\n",
       "392           Japan          English           War      1.000000\n",
       "390           Japan          English       Musical      1.000000\n",
       "584          Turkey          Turkish       History      1.000000\n",
       "98           France          English       Romance      1.000000\n",
       "582          Turkey          Turkish        Family      1.000000\n",
       "370           Italy          Turkish        Action      1.000000\n",
       "571          Turkey           French         Drama      1.000000\n",
       "148          France          Turkish        Comedy      1.000000\n",
       "566          Turkey          English     Animation      1.000000\n",
       "447          Russia          Russian       History      1.000000\n",
       "543           Spain          Spanish        Family      1.000000\n",
       "352           Italy          Italian         Music      1.000000\n",
       "413           Japan         Japanese       Western      1.000000\n",
       "212         Germany          Turkish     Biography      1.000000\n",
       "452          Russia          Russian         Sport      1.000000\n",
       "348           Italy          Italian        Family      1.000000\n",
       "276           India           French     Adventure      1.000000\n",
       "466     South Korea          English       Musical      1.000000\n",
       "511           Spain          English        Sci-Fi      1.000000\n",
       "471     South Korea         Japanese     Biography      1.000000\n",
       "589          Turkey          Turkish        Sci-Fi      1.000000\n",
       "125          France           German         Music      1.000000\n",
       "291           India            Hindi         Sport      1.000000\n",
       "690             USA          Italian         Crime      1.000000\n",
       "707             USA          Spanish     Animation      1.000000\n",
       "14        Australia          English       Romance      1.000000\n",
       "692             USA         Japanese     Adventure      1.000000\n",
       "..              ...              ...           ...           ...\n",
       "402           Japan         Japanese         Crime      0.049296\n",
       "354           Italy          Italian       Mystery      0.047619\n",
       "499           Spain          English        Action      0.045455\n",
       "33           Canada          English        Action      0.044983\n",
       "340           Italy          Italian        Action      0.043307\n",
       "278           India            Hindi     Adventure      0.041667\n",
       "659             USA          English         Crime      0.041575\n",
       "161         Germany          English     Adventure      0.040000\n",
       "546           Spain          Spanish        Horror      0.040000\n",
       "503           Spain          English        Comedy      0.040000\n",
       "10        Australia          English        Horror      0.038961\n",
       "359           Italy          Italian       Western      0.038835\n",
       "92           France          English         Drama      0.038710\n",
       "312           Italy          English        Action      0.037975\n",
       "597              UK          English     Adventure      0.034682\n",
       "665             USA          English        Horror      0.034130\n",
       "36           Canada          English     Biography      0.033333\n",
       "607              UK          English        Horror      0.032538\n",
       "189         Germany           German        Horror      0.031250\n",
       "657             USA          English     Biography      0.029703\n",
       "86           France          English        Action      0.027778\n",
       "91           France          English         Crime      0.027027\n",
       "43           Canada          English        Horror      0.021368\n",
       "1         Australia          English     Adventure      0.019231\n",
       "599              UK          English     Biography      0.018657\n",
       "179         Germany           German        Action      0.017544\n",
       "225       Hong Kong          English        Action      0.017544\n",
       "112          France           French        Horror      0.017544\n",
       "351           Italy          Italian        Horror      0.011494\n",
       "239       Hong Kong         Mandarin        Action      0.004878\n",
       "\n",
       "[303 rows x 4 columns]"
      ]
     },
     "execution_count": 25,
     "metadata": {},
     "output_type": "execute_result"
    }
   ],
   "source": [
    "df_na_check.loc[\n",
    "    (df_na_check.primary_country != \"other\") & (df_na_check.primary_language != \"other\")\n",
    "].sort_values(\"prop_missing\", ascending=False)"
   ]
  },
  {
   "cell_type": "code",
   "execution_count": 26,
   "metadata": {},
   "outputs": [
    {
     "data": {
      "text/plain": [
       "499"
      ]
     },
     "execution_count": 26,
     "metadata": {},
     "output_type": "execute_result"
    }
   ],
   "source": [
    "len(df_na_check)"
   ]
  },
  {
   "cell_type": "markdown",
   "metadata": {},
   "source": [
    "### Votes"
   ]
  },
  {
   "cell_type": "code",
   "execution_count": 27,
   "metadata": {},
   "outputs": [],
   "source": [
    "df_movies.loc[:, \"vote_popularity\"] = pd.qcut(\n",
    "    df_movies.votes, q=4\n",
    ").cat.rename_categories([\"low_q25\", \"low_mid_q50\", \"mid_high_q75\", \"high_q99\"]).astype(str)"
   ]
  },
  {
   "cell_type": "code",
   "execution_count": 28,
   "metadata": {},
   "outputs": [
    {
     "data": {
      "text/plain": [
       "Index(['imdb_title_id', 'title', 'original_title', 'year', 'date_published',\n",
       "       'genre', 'duration', 'country', 'language', 'director', 'writer',\n",
       "       'production_company', 'actors', 'description', 'avg_vote', 'votes',\n",
       "       'budget', 'usa_gross_income', 'worlwide_gross_income', 'metascore',\n",
       "       'reviews_from_users', 'reviews_from_critics', 'primary_country',\n",
       "       'primary_language', 'primary_genre', 'global', 'vote_popularity'],\n",
       "      dtype='object')"
      ]
     },
     "execution_count": 28,
     "metadata": {},
     "output_type": "execute_result"
    }
   ],
   "source": [
    "df_movies.columns"
   ]
  },
  {
   "cell_type": "markdown",
   "metadata": {},
   "source": [
    "__TODO:__    \n",
    "Movies:   \n",
    "* Normalize budget column to the same amount, but this needs to account for past currencies (pre euro...)\n",
    "* interact vote, budget, country, genre between each other \n",
    "* 'budget', 'usa_gross_income', 'worlwide_gross_income', to be worked with   \n",
    "* production_company to be accounted for\n"
   ]
  },
  {
   "cell_type": "markdown",
   "metadata": {},
   "source": [
    "# Add features back to table"
   ]
  },
  {
   "cell_type": "code",
   "execution_count": null,
   "metadata": {},
   "outputs": [],
   "source": [
    "def enrich_with_features(\n",
    "    df: pd.DataFrame, idx_columns: List[str], target_columns: List[str], dummy: bool\n",
    ") -> pd.DataFrame:\n",
    "    if dummy:\n",
    "        cols2keep = [\"year\", \"duration\"]\n",
    "    else:\n",
    "        cols2keep = [\n",
    "            \"year\",\n",
    "            \"duration\",\n",
    "            \"reviews_from_users\",\n",
    "            \"reviews_from_critics\",\n",
    "            \"primary_country\",\n",
    "            \"primary_language\",\n",
    "            \"primary_genre\",\n",
    "            \"global\",\n",
    "            \"vote_popularity\",\n",
    "        ]\n",
    "    select = idx_columns + cols2keep + target_columns\n",
    "\n",
    "    return df.loc[:, select].copy()\n",
    "\n",
    "target_columns = [\"avg_vote\"]\n",
    "df_subset = enrich_with_features(df, idx_columns, target_columns, dummy=False)"
   ]
  },
  {
   "cell_type": "code",
   "execution_count": 30,
   "metadata": {},
   "outputs": [
    {
     "data": {
      "text/plain": [
       "Index(['imdb_title_id', 'title', 'original_title', 'year', 'duration',\n",
       "       'reviews_from_users', 'reviews_from_critics', 'primary_country',\n",
       "       'primary_language', 'primary_genre', 'global', 'vote_popularity',\n",
       "       'avg_vote'],\n",
       "      dtype='object')"
      ]
     },
     "execution_count": 30,
     "metadata": {},
     "output_type": "execute_result"
    }
   ],
   "source": [
    "df_subset.columns"
   ]
  },
  {
   "cell_type": "code",
   "execution_count": 32,
   "metadata": {},
   "outputs": [
    {
     "data": {
      "text/plain": [
       "Index(['imdb_title_id', 'title', 'original_title', 'primary_country',\n",
       "       'primary_language', 'primary_genre', 'vote_popularity'],\n",
       "      dtype='object')"
      ]
     },
     "execution_count": 32,
     "metadata": {},
     "output_type": "execute_result"
    }
   ],
   "source": [
    "df_subset.select_dtypes(\"object\").columns"
   ]
  },
  {
   "cell_type": "code",
   "execution_count": 37,
   "metadata": {},
   "outputs": [],
   "source": [
    "def prepare_data_for_sklearn(\n",
    "    df: pd.DataFrame, dummy_encoding: bool, target_variable: str, idx_columns: List[str]\n",
    ") -> Tuple[pd.DataFrame, pd.DataFrame]:\n",
    "    \"\"\"\n",
    "    Apply scaling/encoding to numeric and categorical variables\n",
    "\n",
    "\n",
    "    Returns:\n",
    "        A pd.DataFrame, ready to pass to modeling as is.\n",
    "    \"\"\"\n",
    "\n",
    "    # drop key columns and target variable\n",
    "    X, y = (df.drop(columns=idx_columns + [target_variable]), df[target_variable])\n",
    "\n",
    "    # determine column types so appropriate transformation is applied\n",
    "    col2type = {col: typ.name for col, typ in X.dtypes.iteritems()}\n",
    "    type2cols = defaultdict(list)\n",
    "    for k, v in col2type.items():\n",
    "        if v == \"object\":\n",
    "            type2cols[\"string\"].append(k)\n",
    "        else:\n",
    "            type2cols[\"numeric\"].append(k)\n",
    "\n",
    "    # categorical variables\n",
    "\n",
    "    string_cols = type2cols.get(\"string\")\n",
    "    if dummy_encoding and string_cols:\n",
    "        cat_features = pd.get_dummies(\n",
    "            X[string_cols], columns=string_cols, drop_first=True\n",
    "        )\n",
    "        X = X.drop(columns=string_cols)  # drop original categorical column\n",
    "        assert len(X.index) == len(cat_features)\n",
    "        X = pd.concat([X, cat_features], axis=1)\n",
    "\n",
    "    # numeric columns\n",
    "\n",
    "    numeric_cols = type2cols.get(\"numeric\")\n",
    "    standard_scaler = StandardScaler()\n",
    "    scaled_features = X.loc[:, numeric_cols].copy()\n",
    "    scaled_X = standard_scaler.fit_transform(scaled_features.values)\n",
    "    scaled_df = X.copy()\n",
    "    scaled_df.loc[:, numeric_cols] = scaled_X\n",
    "\n",
    "    # add key columns back to scaled_df...\n",
    "    scaled_df = scaled_df.merge(y, left_index=True, right_index=True).merge(\n",
    "        df[idx_columns], left_index=True, right_index=True\n",
    "    )\n",
    "\n",
    "    unscaled_df = X.merge(y, left_index=True, right_index=True).merge(\n",
    "        df[idx_columns], left_index=True, right_index=True\n",
    "    )\n",
    "\n",
    "    return scaled_df, unscaled_df"
   ]
  },
  {
   "cell_type": "code",
   "execution_count": 44,
   "metadata": {},
   "outputs": [],
   "source": [
    "scaled_df, unscaled_df = prepare_data_for_sklearn(df_subset,dummy_encoding = True, target_variable = \"avg_vote\",\n",
    "                        idx_columns = idx_columns)"
   ]
  },
  {
   "cell_type": "markdown",
   "metadata": {},
   "source": [
    "# Add further features\n",
    "\n",
    "Ideas for features:\n",
    "* Cast and combination of casts is important -> get average rating for actors in cast, same for producers such as tarrantino --> this should probably be by country    \n",
    "* Capture genre bias on ratings-  comedy is typically rated less - action is typically more    \n",
    "* Nominations for awards are important (for example parasite), country inflation is a factor --> some countries would tend to rate movies higher\n",
    "* Focus on movies file first and then consider the actors part -->    \n",
    "    * ratings has target groups information which I don't need to include in a first version-- has missing values and stuff   \n",
    "    * actors comes in a second version   \n",
    "* How polarised is the voting (mean vs median of ratings) -> These movies will probably present more challenges\n",
    "\n",
    "Different types of movies: \n",
    "* English Comedy: will ferrel, big lebowski? \n",
    "* Low budget/indie movies:   \n",
    "* Superhero movies (high budget, high viewership):  \n",
    "* Global vs local viewership\n",
    "* Famous producer/actor movies  "
   ]
  },
  {
   "cell_type": "markdown",
   "metadata": {},
   "source": [
    "## Ratings"
   ]
  },
  {
   "cell_type": "code",
   "execution_count": null,
   "metadata": {},
   "outputs": [],
   "source": [
    "df_ratings = pd.read_csv(os.path.join(PROJECT_BASE_DIR, data_dir, \"ratings.csv\"))"
   ]
  },
  {
   "cell_type": "markdown",
   "metadata": {},
   "source": [
    "## Actors"
   ]
  },
  {
   "cell_type": "code",
   "execution_count": null,
   "metadata": {},
   "outputs": [],
   "source": [
    "df_names = pd.read_csv(os.path.join(PROJECT_BASE_DIR, data_dir, \"names.csv\"))"
   ]
  },
  {
   "cell_type": "markdown",
   "metadata": {},
   "source": [
    "## Title principals"
   ]
  },
  {
   "cell_type": "code",
   "execution_count": null,
   "metadata": {},
   "outputs": [],
   "source": [
    "df_title_pcpls = pd.read_csv(os.path.join(PROJECT_BASE_DIR, data_dir, \"title_principals.csv\"))"
   ]
  }
 ],
 "metadata": {
  "kernelspec": {
   "display_name": "Python [conda env:.conda-imdb] *",
   "language": "python",
   "name": "conda-env-.conda-imdb-py"
  },
  "language_info": {
   "codemirror_mode": {
    "name": "ipython",
    "version": 3
   },
   "file_extension": ".py",
   "mimetype": "text/x-python",
   "name": "python",
   "nbconvert_exporter": "python",
   "pygments_lexer": "ipython3",
   "version": "3.7.6"
  },
  "toc": {
   "base_numbering": 1,
   "nav_menu": {},
   "number_sections": true,
   "sideBar": true,
   "skip_h1_title": false,
   "title_cell": "Table of Contents",
   "title_sidebar": "Contents",
   "toc_cell": false,
   "toc_position": {},
   "toc_section_display": true,
   "toc_window_display": true
  }
 },
 "nbformat": 4,
 "nbformat_minor": 4
}
